{
 "cells": [
  {
   "cell_type": "code",
   "execution_count": 3,
   "metadata": {
    "colab": {
     "base_uri": "https://localhost:8080/"
    },
    "id": "oSME3KYALr5k",
    "outputId": "798fc281-706a-40d1-9d1a-cfc45192e95c"
   },
   "outputs": [
    {
     "name": "stderr",
     "output_type": "stream",
     "text": [
      "C:\\Everything\\Anaconda\\lib\\site-packages\\sklearn\\utils\\deprecation.py:87: FutureWarning: Function get_feature_names is deprecated; get_feature_names is deprecated in 1.0 and will be removed in 1.2. Please use get_feature_names_out instead.\n",
      "  warnings.warn(msg, category=FutureWarning)\n"
     ]
    },
    {
     "name": "stdout",
     "output_type": "stream",
     "text": [
      "Fitting 5 folds for each of 1 candidates, totalling 5 fits\n",
      "[CV 1/5] END ......C=3, gamma=0.017, kernel=rbf;, score=0.601 total time= 5.5min\n",
      "[CV 2/5] END ......C=3, gamma=0.017, kernel=rbf;, score=0.615 total time= 5.5min\n",
      "[CV 3/5] END ......C=3, gamma=0.017, kernel=rbf;, score=0.616 total time= 5.5min\n",
      "[CV 4/5] END ......C=3, gamma=0.017, kernel=rbf;, score=0.611 total time= 6.1min\n",
      "[CV 5/5] END ......C=3, gamma=0.017, kernel=rbf;, score=0.624 total time= 6.4min\n",
      "{'C': 3, 'gamma': 0.017, 'kernel': 'rbf'}\n",
      "0.6133162612035852\n",
      "Accuracy: 61.52073732718893%\n"
     ]
    }
   ],
   "source": [
    "def load_data( training_size = None ):\n",
    "    images_df = pd.read_csv(\"Images.csv\", sep=\";\", names=[\"image_id\", \"class\"])\n",
    "    edgehistogram_df = pd.read_csv(\"EdgeHistogram.csv\", sep=\";\", names=[\"image_id\"] + [f\"feature{i}\" for i in range(9144)])\n",
    "    df = images_df.join(edgehistogram_df.set_index(\"image_id\"), on=\"image_id\")\n",
    "    df[df.columns[df.columns != 'class']] = df[df.columns[df.columns != 'class']].apply(pd.to_numeric, downcast='integer', errors='coerce')\n",
    "    df.fillna(0, inplace=True)\n",
    "    df = df.iloc[2:]\n",
    "    df.drop(df[df['class'] == 'BACKGROUND_Google'].index, inplace=True)\n",
    "    if training_size is not None:\n",
    "      df = df.groupby(\"class\").head(training_size)\n",
    "    else :\n",
    "      pass\n",
    "    return df\n",
    "\n",
    "def preprocess_data(df):\n",
    "    encoder = OneHotEncoder(handle_unknown='ignore', sparse='auto')\n",
    "    class_one_hot = encoder.fit_transform(df[['class']]).toarray()\n",
    "    class_one_hot = pd.DataFrame(class_one_hot)\n",
    "    class_one_hot.columns = encoder.get_feature_names(['class_'])\n",
    "    X = df.drop(columns=[\"image_id\", \"class\"])\n",
    "    y = df[\"class\"]\n",
    "    X_train, X_test, y_train, y_test = train_test_split(X, y, test_size=0.1)\n",
    "    scaler = StandardScaler()\n",
    "    X_train = scaler.fit_transform(X_train)\n",
    "    X_test = scaler.transform(X_test)\n",
    "    return X_train, X_test, y_train, y_test\n",
    "\n",
    "def train_and_predict(X_train, X_test, y_train, y_test):\n",
    "    param_grid = { 'C': [3], 'gamma': [0.017], 'kernel': ['rbf'] }\n",
    "    grid = GridSearchCV(SVC(), param_grid, refit=True, verbose=3 )\n",
    "    grid.fit(X_train, y_train)\n",
    "    print(grid.best_params_)\n",
    "    print(grid.best_score_)\n",
    "    y_pred = grid.predict(X_test)\n",
    "    print(f\"Accuracy: {accuracy_score(y_test, y_pred) * 100}%\")\n",
    "    #conf_matrix = metrics.confusion_matrix(y_test, y_pred)\n",
    "    # Plot the confusion matrix\n",
    "    #cm_display = metrics.ConfusionMatrixDisplay(confusion_matrix = confusion_matrix, display_labels = [False, True])\n",
    "    #cm_display.plot()\n",
    "    #plt.show()\n",
    "    # Get the predicted probability scores for the positive class\n",
    " \n",
    "if __name__ == \"__main__\":\n",
    "    import numpy as np\n",
    "    import pandas as pd\n",
    "    from sklearn.model_selection import train_test_split\n",
    "    from sklearn.svm import SVC\n",
    "    from sklearn.metrics import accuracy_score\n",
    "    from sklearn.preprocessing import OneHotEncoder\n",
    "    from sklearn.preprocessing import StandardScaler\n",
    "    from sklearn.model_selection import GridSearchCV\n",
    "    from sklearn import metrics\n",
    "    import matplotlib.pyplot as plt\n",
    "    from sklearn.metrics import roc_auc_score, roc_curve\n",
    "    \n",
    "    # Pass the training size inside load_data() function  \n",
    "    df = load_data()\n",
    "    X_train, X_test, y_train, y_test = preprocess_data(df)\n",
    "    train_and_predict(X_train, X_test, y_train, y_test)"
   ]
  }
 ],
 "metadata": {
  "colab": {
   "provenance": []
  },
  "kernelspec": {
   "display_name": "Python 3 (ipykernel)",
   "language": "python",
   "name": "python3"
  },
  "language_info": {
   "codemirror_mode": {
    "name": "ipython",
    "version": 3
   },
   "file_extension": ".py",
   "mimetype": "text/x-python",
   "name": "python",
   "nbconvert_exporter": "python",
   "pygments_lexer": "ipython3",
   "version": "3.9.12"
  }
 },
 "nbformat": 4,
 "nbformat_minor": 1
}
